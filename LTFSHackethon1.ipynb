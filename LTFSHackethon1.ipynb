{
 "cells": [
  {
   "cell_type": "code",
   "execution_count": 55,
   "metadata": {},
   "outputs": [
    {
     "name": "stdout",
     "output_type": "stream",
     "text": [
      "Index(['application_date', 'segment', 'branch_id', 'state', 'zone',\n",
      "       'case_count'],\n",
      "      dtype='object')\n",
      "0        WEST BENGAL\n",
      "1        WEST BENGAL\n",
      "2        WEST BENGAL\n",
      "3        WEST BENGAL\n",
      "4        WEST BENGAL\n",
      "            ...     \n",
      "80397    WEST BENGAL\n",
      "80398    WEST BENGAL\n",
      "80399    WEST BENGAL\n",
      "80400    WEST BENGAL\n",
      "80401    WEST BENGAL\n",
      "Name: state, Length: 80402, dtype: object\n"
     ]
    }
   ],
   "source": [
    "import pandas as pd\n",
    "\n",
    "\n",
    "data=pd.read_csv('train_fwYjLYX.csv')\n",
    "df=pd.DataFrame(data)\n",
    "print(data.columns)\n",
    "print(df['state'])\n"
   ]
  },
  {
   "cell_type": "code",
   "execution_count": 58,
   "metadata": {},
   "outputs": [
    {
     "name": "stdout",
     "output_type": "stream",
     "text": [
      "[[822.   1.  73.]\n",
      " [682.   1.  82.]\n",
      " [478.   1. 249.]\n",
      " ...\n",
      " [ 51.   1.  17.]\n",
      " [245.   1.  16.]\n",
      " [745.   1. 248.]]\n",
      "application_date    int64\n",
      "segment             int64\n",
      "branch_id           int32\n",
      "case_count          int64\n",
      "dtype: object\n",
      "[  40    5    4 ... 1028 1946 1984]\n"
     ]
    }
   ],
   "source": [
    "from sklearn.utils import shuffle\n",
    "#df=df.drop(['state','zone'],axis=1)\n",
    "x,y=shuffle(x,y,random_state=10)\n",
    "print(x)\n",
    "from sklearn.preprocessing import LabelEncoder\n",
    "le = LabelEncoder()\n",
    "#df.state = le.fit_transform(df.state)\n",
    "df.application_date = le.fit_transform(df.application_date)\n",
    "x=df[df.columns[:3]].values\n",
    "y=df[df.columns[3]].values\n",
    "df['branch_id'] = df['branch_id'].replace(np.nan, 0)\n",
    "df=df.astype({\"branch_id\": int})\n",
    "print(df.dtypes)\n",
    "print(y)"
   ]
  },
  {
   "cell_type": "code",
   "execution_count": 59,
   "metadata": {},
   "outputs": [
    {
     "name": "stdout",
     "output_type": "stream",
     "text": [
      "<bound method NDFrame.head of       id application_date  segment\n",
      "0      1       06-07-2019        1\n",
      "1      2       07-07-2019        1\n",
      "2      3       08-07-2019        1\n",
      "3      4       09-07-2019        1\n",
      "4      5       10-07-2019        1\n",
      "..   ...              ...      ...\n",
      "175  176       20-10-2019        2\n",
      "176  177       21-10-2019        2\n",
      "177  178       22-10-2019        2\n",
      "178  179       23-10-2019        2\n",
      "179  180       24-10-2019        2\n",
      "\n",
      "[180 rows x 3 columns]>\n",
      "id                   int64\n",
      "application_date    object\n",
      "segment              int64\n",
      "dtype: object\n"
     ]
    }
   ],
   "source": [
    "x_test = pd.read_csv('test_1eLl9Yf.csv')\n",
    "print(x_test.head)\n",
    "print(x_test.dtypes)"
   ]
  },
  {
   "cell_type": "code",
   "execution_count": null,
   "metadata": {},
   "outputs": [],
   "source": [
    "from sklearn.linear_model import LinearRegression\n",
    "from sklearn.model_selection import train_test_split\n",
    "import numpy as np\n",
    "from sklearn.metrics import mean_squared_error,mean_absolute_error\n",
    "\n",
    "model=LinearRegression()\n",
    "model=model.fit(x,y)\n",
    "y_pred=model.predict()\n",
    "#compute the RMSE of our predictions\n",
    "print(\"MAE is\",mean_absolute_error(y_pred,test_target))\n",
    "print(\"MSE is \",mean_squared_error(y_pred,test_target))\n",
    "#print(\"RMSE is\",np.sqrt(mean_squared_error(y_pred,test_target))"
   ]
  },
  {
   "cell_type": "code",
   "execution_count": null,
   "metadata": {},
   "outputs": [],
   "source": []
  }
 ],
 "metadata": {
  "kernelspec": {
   "display_name": "Python 3",
   "language": "python",
   "name": "python3"
  },
  "language_info": {
   "codemirror_mode": {
    "name": "ipython",
    "version": 3
   },
   "file_extension": ".py",
   "mimetype": "text/x-python",
   "name": "python",
   "nbconvert_exporter": "python",
   "pygments_lexer": "ipython3",
   "version": "3.7.4"
  }
 },
 "nbformat": 4,
 "nbformat_minor": 4
}
